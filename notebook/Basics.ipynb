{
 "cells": [
  {
   "cell_type": "markdown",
   "id": "3af5215c-74db-4ffe-9cf0-ec1686f3a91e",
   "metadata": {},
   "source": [
    "# Basics"
   ]
  },
  {
   "cell_type": "markdown",
   "id": "1deee813-70d9-456b-864f-68876cc15c77",
   "metadata": {},
   "source": [
    "## This is h2"
   ]
  },
  {
   "cell_type": "markdown",
   "id": "f3742f73-a3f4-43f4-bc6f-31c0b2047fba",
   "metadata": {},
   "source": [
    "this will be a desc"
   ]
  },
  {
   "cell_type": "code",
   "execution_count": 11,
   "id": "edfbbacd-07b6-482f-8ebc-183155a1ecbf",
   "metadata": {},
   "outputs": [
    {
     "name": "stdout",
     "output_type": "stream",
     "text": [
      "[1, 2, 3, 4]\n"
     ]
    }
   ],
   "source": [
    "list1=[1,2,3,4]\n",
    "print(list1)"
   ]
  }
 ],
 "metadata": {
  "kernelspec": {
   "display_name": "Python 3 (ipykernel)",
   "language": "python",
   "name": "python3"
  },
  "language_info": {
   "codemirror_mode": {
    "name": "ipython",
    "version": 3
   },
   "file_extension": ".py",
   "mimetype": "text/x-python",
   "name": "python",
   "nbconvert_exporter": "python",
   "pygments_lexer": "ipython3",
   "version": "3.13.3"
  }
 },
 "nbformat": 4,
 "nbformat_minor": 5
}
